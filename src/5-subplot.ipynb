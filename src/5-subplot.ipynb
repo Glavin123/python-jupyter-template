{
 "cells": [
  {
   "cell_type": "markdown",
   "metadata": {},
   "source": [
    "### Exercise 5: Subplot Layout"
   ]
  },
  {
   "cell_type": "code",
   "execution_count": null,
   "metadata": {},
   "outputs": [],
   "source": [
    "# TASK: Create a 2x2 subplot layout.\n",
    "# Plot a line chart in the first subplot, a bar chart in the second, a scatter plot in the third, and a pie chart in the fourth.\n",
    "import matplotlib.pyplot as plt\n",
    "\n",
    "# Sample data for the plots\n",
    "x = [1, 2, 3, 4, 5]\n",
    "y1 = [2, 4, 6, 8, 10]\n",
    "y2 = [3, 1, 4, 2, 5]\n",
    "categories = ['A', 'B', 'C', 'D', 'E']\n",
    "values = [25, 30, 15, 10, 20]\n",
    "labels = ['Python', 'Java', 'C++', 'JavaScript']\n",
    "sizes = [40, 25, 20, 15]\n",
    "\n",
    "# Create the subplot layout\n",
    "fig, axes = plt.subplots(2, 2)\n",
    "\n",
    "# Line chart in the first subplot\n",
    "axes[0, 0].plot(x, y1)\n",
    "axes[0, 0].set_title('Line Chart')\n",
    "\n",
    "# Bar chart in the second subplot\n",
    "axes[0, 1].bar(categories, values)\n",
    "axes[0, 1].set_title('Bar Chart')\n",
    "\n",
    "# Scatter plot in the third subplot\n",
    "axes[1, 0].scatter(x, y2)\n",
    "axes[1, 0].set_title('Scatter Plot')\n",
    "\n",
    "# Pie chart in the fourth subplot\n",
    "axes[1, 1].pie(sizes, labels=labels, autopct='%1.1f%%')\n",
    "axes[1, 1].set_title('Pie Chart')\n",
    "axes[1, 1].axis('equal')  # Equal aspect ratio ensures that pie is drawn as a circle.\n",
    "\n",
    "# Adjust layout\n",
    "plt.tight_layout()\n",
    "\n",
    "# Show the plots\n",
    "plt.show()"
   ]
  }
 ],
 "metadata": {
  "language_info": {
   "name": "python"
  }
 },
 "nbformat": 4,
 "nbformat_minor": 2
}
